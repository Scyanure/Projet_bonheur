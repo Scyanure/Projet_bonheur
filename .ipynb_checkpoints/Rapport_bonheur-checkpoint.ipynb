{
 "cells": [
  {
   "cell_type": "markdown",
   "id": "17d89f8b",
   "metadata": {},
   "source": [
    "<div style=\"background-color : Blue\">\n",
    "    <p style =\"text-align : center; color : red; font-size : 30px; margin : auto;padding : 30PX\">Projet bonheur</p></div>"
   ]
  },
  {
   "cell_type": "markdown",
   "id": "241e47a6",
   "metadata": {},
   "source": [
    "# Importation des librairies"
   ]
  },
  {
   "cell_type": "code",
   "execution_count": 1,
   "id": "5636c51d",
   "metadata": {},
   "outputs": [],
   "source": [
    "import pandas as pd"
   ]
  },
  {
   "cell_type": "markdown",
   "id": "c0f23bc5",
   "metadata": {},
   "source": [
    "# "
   ]
  },
  {
   "cell_type": "markdown",
   "id": "97e59f14",
   "metadata": {},
   "source": [
    "# Importation du fichier csv"
   ]
  },
  {
   "cell_type": "code",
   "execution_count": 2,
   "id": "6942f9a4",
   "metadata": {},
   "outputs": [],
   "source": [
    "df=pd.read_csv(\"Rapport-bonheur.csv\")"
   ]
  },
  {
   "cell_type": "code",
   "execution_count": null,
   "id": "6d866de3",
   "metadata": {},
   "outputs": [],
   "source": [
    "df.head()"
   ]
  }
 ],
 "metadata": {
  "kernelspec": {
   "display_name": "Python 3",
   "language": "python",
   "name": "python3"
  },
  "language_info": {
   "codemirror_mode": {
    "name": "ipython",
    "version": 3
   },
   "file_extension": ".py",
   "mimetype": "text/x-python",
   "name": "python",
   "nbconvert_exporter": "python",
   "pygments_lexer": "ipython3",
   "version": "3.8.8"
  }
 },
 "nbformat": 4,
 "nbformat_minor": 5
}
