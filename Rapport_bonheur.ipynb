{
 "cells": [
  {
   "cell_type": "code",
   "execution_count": 14,
   "id": "4e08a3ec",
   "metadata": {},
   "outputs": [],
   "source": [
    "import numpy as np\n",
    "import matplotlib.pyplot as plt\n",
    "import pandas as pd\n",
    "import seaborn as sns\n",
    "import warnings\n",
    "\n",
    "from sklearn.cluster import KMeans\n",
    "from sklearn import metrics\n",
    "from scipy.spatial.distance import cdist\n",
    "import numpy as np\n",
    "import matplotlib.pyplot as plt"
   ]
  },
  {
   "cell_type": "markdown",
   "id": "368eb457",
   "metadata": {},
   "source": [
    "<div style=\"display: flex; background-color: RGB(255,114,0);\" >\n",
    "<h1 style=\"margin: auto; padding: 30px; \">PROJET - Bonheur </h1>\n",
    "</div>"
   ]
  },
  {
   "cell_type": "code",
   "execution_count": 15,
   "id": "14b5d715",
   "metadata": {},
   "outputs": [],
   "source": [
    "data = pd.read_csv(\"Rapport-bonheur.csv\")"
   ]
  },
  {
   "cell_type": "code",
   "execution_count": 16,
   "id": "8fc6df3e",
   "metadata": {},
   "outputs": [
    {
     "data": {
      "text/html": [
       "<div>\n",
       "<style scoped>\n",
       "    .dataframe tbody tr th:only-of-type {\n",
       "        vertical-align: middle;\n",
       "    }\n",
       "\n",
       "    .dataframe tbody tr th {\n",
       "        vertical-align: top;\n",
       "    }\n",
       "\n",
       "    .dataframe thead th {\n",
       "        text-align: right;\n",
       "    }\n",
       "</style>\n",
       "<table border=\"1\" class=\"dataframe\">\n",
       "  <thead>\n",
       "    <tr style=\"text-align: right;\">\n",
       "      <th></th>\n",
       "      <th>Overall rank</th>\n",
       "      <th>Country or region</th>\n",
       "      <th>Score</th>\n",
       "      <th>GDP per capita</th>\n",
       "      <th>Social support</th>\n",
       "      <th>Healthy life expectancy</th>\n",
       "      <th>Freedom to make life choices</th>\n",
       "      <th>Generosity</th>\n",
       "      <th>Perceptions of corruption</th>\n",
       "    </tr>\n",
       "  </thead>\n",
       "  <tbody>\n",
       "    <tr>\n",
       "      <th>0</th>\n",
       "      <td>1</td>\n",
       "      <td>Finland</td>\n",
       "      <td>7.769</td>\n",
       "      <td>1.340</td>\n",
       "      <td>1.587</td>\n",
       "      <td>0.986</td>\n",
       "      <td>0.596</td>\n",
       "      <td>0.153</td>\n",
       "      <td>0.393</td>\n",
       "    </tr>\n",
       "    <tr>\n",
       "      <th>1</th>\n",
       "      <td>2</td>\n",
       "      <td>Denmark</td>\n",
       "      <td>7.600</td>\n",
       "      <td>1.383</td>\n",
       "      <td>1.573</td>\n",
       "      <td>0.996</td>\n",
       "      <td>0.592</td>\n",
       "      <td>0.252</td>\n",
       "      <td>0.410</td>\n",
       "    </tr>\n",
       "    <tr>\n",
       "      <th>2</th>\n",
       "      <td>3</td>\n",
       "      <td>Norway</td>\n",
       "      <td>7.554</td>\n",
       "      <td>1.488</td>\n",
       "      <td>1.582</td>\n",
       "      <td>1.028</td>\n",
       "      <td>0.603</td>\n",
       "      <td>0.271</td>\n",
       "      <td>0.341</td>\n",
       "    </tr>\n",
       "    <tr>\n",
       "      <th>3</th>\n",
       "      <td>4</td>\n",
       "      <td>Iceland</td>\n",
       "      <td>7.494</td>\n",
       "      <td>1.380</td>\n",
       "      <td>1.624</td>\n",
       "      <td>1.026</td>\n",
       "      <td>0.591</td>\n",
       "      <td>0.354</td>\n",
       "      <td>0.118</td>\n",
       "    </tr>\n",
       "    <tr>\n",
       "      <th>4</th>\n",
       "      <td>5</td>\n",
       "      <td>Netherlands</td>\n",
       "      <td>7.488</td>\n",
       "      <td>1.396</td>\n",
       "      <td>1.522</td>\n",
       "      <td>0.999</td>\n",
       "      <td>0.557</td>\n",
       "      <td>0.322</td>\n",
       "      <td>0.298</td>\n",
       "    </tr>\n",
       "    <tr>\n",
       "      <th>...</th>\n",
       "      <td>...</td>\n",
       "      <td>...</td>\n",
       "      <td>...</td>\n",
       "      <td>...</td>\n",
       "      <td>...</td>\n",
       "      <td>...</td>\n",
       "      <td>...</td>\n",
       "      <td>...</td>\n",
       "      <td>...</td>\n",
       "    </tr>\n",
       "    <tr>\n",
       "      <th>151</th>\n",
       "      <td>152</td>\n",
       "      <td>Rwanda</td>\n",
       "      <td>3.334</td>\n",
       "      <td>0.359</td>\n",
       "      <td>0.711</td>\n",
       "      <td>0.614</td>\n",
       "      <td>0.555</td>\n",
       "      <td>0.217</td>\n",
       "      <td>0.411</td>\n",
       "    </tr>\n",
       "    <tr>\n",
       "      <th>152</th>\n",
       "      <td>153</td>\n",
       "      <td>Tanzania</td>\n",
       "      <td>3.231</td>\n",
       "      <td>0.476</td>\n",
       "      <td>0.885</td>\n",
       "      <td>0.499</td>\n",
       "      <td>0.417</td>\n",
       "      <td>0.276</td>\n",
       "      <td>0.147</td>\n",
       "    </tr>\n",
       "    <tr>\n",
       "      <th>153</th>\n",
       "      <td>154</td>\n",
       "      <td>Afghanistan</td>\n",
       "      <td>3.203</td>\n",
       "      <td>0.350</td>\n",
       "      <td>0.517</td>\n",
       "      <td>0.361</td>\n",
       "      <td>0.000</td>\n",
       "      <td>0.158</td>\n",
       "      <td>0.025</td>\n",
       "    </tr>\n",
       "    <tr>\n",
       "      <th>154</th>\n",
       "      <td>155</td>\n",
       "      <td>Central African Republic</td>\n",
       "      <td>3.083</td>\n",
       "      <td>0.026</td>\n",
       "      <td>0.000</td>\n",
       "      <td>0.105</td>\n",
       "      <td>0.225</td>\n",
       "      <td>0.235</td>\n",
       "      <td>0.035</td>\n",
       "    </tr>\n",
       "    <tr>\n",
       "      <th>155</th>\n",
       "      <td>156</td>\n",
       "      <td>South Sudan</td>\n",
       "      <td>2.853</td>\n",
       "      <td>0.306</td>\n",
       "      <td>0.575</td>\n",
       "      <td>0.295</td>\n",
       "      <td>0.010</td>\n",
       "      <td>0.202</td>\n",
       "      <td>0.091</td>\n",
       "    </tr>\n",
       "  </tbody>\n",
       "</table>\n",
       "<p>156 rows × 9 columns</p>\n",
       "</div>"
      ],
      "text/plain": [
       "     Overall rank         Country or region  Score  GDP per capita  \\\n",
       "0               1                   Finland  7.769           1.340   \n",
       "1               2                   Denmark  7.600           1.383   \n",
       "2               3                    Norway  7.554           1.488   \n",
       "3               4                   Iceland  7.494           1.380   \n",
       "4               5               Netherlands  7.488           1.396   \n",
       "..            ...                       ...    ...             ...   \n",
       "151           152                    Rwanda  3.334           0.359   \n",
       "152           153                  Tanzania  3.231           0.476   \n",
       "153           154               Afghanistan  3.203           0.350   \n",
       "154           155  Central African Republic  3.083           0.026   \n",
       "155           156               South Sudan  2.853           0.306   \n",
       "\n",
       "     Social support  Healthy life expectancy  Freedom to make life choices  \\\n",
       "0             1.587                    0.986                         0.596   \n",
       "1             1.573                    0.996                         0.592   \n",
       "2             1.582                    1.028                         0.603   \n",
       "3             1.624                    1.026                         0.591   \n",
       "4             1.522                    0.999                         0.557   \n",
       "..              ...                      ...                           ...   \n",
       "151           0.711                    0.614                         0.555   \n",
       "152           0.885                    0.499                         0.417   \n",
       "153           0.517                    0.361                         0.000   \n",
       "154           0.000                    0.105                         0.225   \n",
       "155           0.575                    0.295                         0.010   \n",
       "\n",
       "     Generosity  Perceptions of corruption  \n",
       "0         0.153                      0.393  \n",
       "1         0.252                      0.410  \n",
       "2         0.271                      0.341  \n",
       "3         0.354                      0.118  \n",
       "4         0.322                      0.298  \n",
       "..          ...                        ...  \n",
       "151       0.217                      0.411  \n",
       "152       0.276                      0.147  \n",
       "153       0.158                      0.025  \n",
       "154       0.235                      0.035  \n",
       "155       0.202                      0.091  \n",
       "\n",
       "[156 rows x 9 columns]"
      ]
     },
     "execution_count": 16,
     "metadata": {},
     "output_type": "execute_result"
    }
   ],
   "source": [
    "data"
   ]
  },
  {
   "cell_type": "code",
   "execution_count": 17,
   "id": "92da3d6d",
   "metadata": {},
   "outputs": [
    {
     "data": {
      "text/plain": [
       "(156, 9)"
      ]
     },
     "execution_count": 17,
     "metadata": {},
     "output_type": "execute_result"
    }
   ],
   "source": [
    "data.shape"
   ]
  },
  {
   "cell_type": "markdown",
   "id": "b3957b7e",
   "metadata": {},
   "source": [
    "# algo ia"
   ]
  },
  {
   "cell_type": "code",
   "execution_count": 36,
   "id": "53969890",
   "metadata": {},
   "outputs": [],
   "source": [
    "X = data.drop(columns=['Country or region'])\n",
    "region = data['Country or region']"
   ]
  },
  {
   "cell_type": "code",
   "execution_count": 23,
   "id": "1a7c99c8",
   "metadata": {},
   "outputs": [
    {
     "name": "stderr",
     "output_type": "stream",
     "text": [
      "C:\\Users\\utilisateur\\anaconda3\\lib\\site-packages\\sklearn\\cluster\\_kmeans.py:1036: UserWarning: KMeans is known to have a memory leak on Windows with MKL, when there are less chunks than available threads. You can avoid it by setting the environment variable OMP_NUM_THREADS=1.\n",
      "  warnings.warn(\n",
      "C:\\Users\\utilisateur\\anaconda3\\lib\\site-packages\\sklearn\\cluster\\_kmeans.py:1036: UserWarning: KMeans is known to have a memory leak on Windows with MKL, when there are less chunks than available threads. You can avoid it by setting the environment variable OMP_NUM_THREADS=1.\n",
      "  warnings.warn(\n"
     ]
    }
   ],
   "source": [
    "distortions = []\n",
    "inertias = []\n",
    "mapping1 = {}\n",
    "mapping2 = {}\n",
    "K = range(1, 10)\n",
    " \n",
    "for k in K:\n",
    "    # Building and fitting the model\n",
    "    kmeanModel = KMeans(n_clusters=k).fit(X)\n",
    "    kmeanModel.fit(X)\n",
    " \n",
    "    distortions.append(sum(np.min(cdist(X, kmeanModel.cluster_centers_,\n",
    "                                        'euclidean'), axis=1)) / X.shape[0])\n",
    "    inertias.append(kmeanModel.inertia_)\n",
    " \n",
    "    mapping1[k] = sum(np.min(cdist(X, kmeanModel.cluster_centers_,\n",
    "                                   'euclidean'), axis=1)) / X.shape[0]\n",
    "    mapping2[k] = kmeanModel.inertia_"
   ]
  },
  {
   "cell_type": "code",
   "execution_count": 24,
   "id": "03f271b6",
   "metadata": {},
   "outputs": [
    {
     "name": "stdout",
     "output_type": "stream",
     "text": [
      "1 : 39.01840677733418\n",
      "2 : 19.519883823163482\n",
      "3 : 13.025604123707977\n",
      "4 : 9.776355540958125\n",
      "5 : 7.821332976275201\n",
      "6 : 6.536816780862028\n",
      "7 : 5.601773431874369\n",
      "8 : 4.918556059896014\n",
      "9 : 4.386656368477495\n"
     ]
    }
   ],
   "source": [
    "for key, val in mapping1.items():\n",
    "    print(f'{key} : {val}')"
   ]
  },
  {
   "cell_type": "code",
   "execution_count": 25,
   "id": "c651cb70",
   "metadata": {},
   "outputs": [
    {
     "data": {
      "image/png": "[encoded data removed]",
      "text/plain": [
       "<Figure size 432x288 with 1 Axes>"
      ]
     },
     "metadata": {
      "needs_background": "light"
     },
     "output_type": "display_data"
    }
   ],
   "source": [
    "\n",
    "plt.plot(K, distortions, 'bx-')\n",
    "plt.xlabel('Values of K')\n",
    "plt.ylabel('Distortion')\n",
    "plt.title('The Elbow Method using Distortion')\n",
    "plt.show()"
   ]
  },
  {
   "cell_type": "code",
   "execution_count": null,
   "id": "fdd3d4cf",
   "metadata": {},
   "outputs": [],
   "source": [
    "# 3 et 2"
   ]
  },
  {
   "cell_type": "code",
   "execution_count": 30,
   "id": "32e04377",
   "metadata": {},
   "outputs": [],
   "source": [
    "kmeanModel = KMeans(n_clusters=2).fit(X)\n",
    "kmeanModel.fit(X)\n",
    "y = kmeanModel.predict(X)\n"
   ]
  },
  {
   "cell_type": "code",
   "execution_count": 31,
   "id": "bac9bb85",
   "metadata": {},
   "outputs": [
    {
     "data": {
      "text/plain": [
       "array([1, 1, 1, 1, 1, 1, 1, 1, 1, 1, 1, 1, 1, 1, 1, 1, 1, 1, 1, 1, 1, 1,\n",
       "       1, 1, 1, 1, 1, 1, 1, 1, 1, 1, 1, 1, 1, 1, 1, 1, 1, 1, 1, 1, 1, 1,\n",
       "       1, 1, 1, 1, 1, 1, 1, 1, 1, 1, 1, 1, 1, 1, 1, 1, 1, 1, 1, 1, 1, 1,\n",
       "       1, 1, 1, 1, 1, 1, 1, 1, 1, 1, 1, 1, 1, 0, 0, 0, 0, 0, 0, 0, 0, 0,\n",
       "       0, 0, 0, 0, 0, 0, 0, 0, 0, 0, 0, 0, 0, 0, 0, 0, 0, 0, 0, 0, 0, 0,\n",
       "       0, 0, 0, 0, 0, 0, 0, 0, 0, 0, 0, 0, 0, 0, 0, 0, 0, 0, 0, 0, 0, 0,\n",
       "       0, 0, 0, 0, 0, 0, 0, 0, 0, 0, 0, 0, 0, 0, 0, 0, 0, 0, 0, 0, 0, 0,\n",
       "       0, 0])"
      ]
     },
     "execution_count": 31,
     "metadata": {},
     "output_type": "execute_result"
    }
   ],
   "source": [
    "y"
   ]
  },
  {
   "cell_type": "code",
   "execution_count": 29,
   "id": "5d166438",
   "metadata": {},
   "outputs": [
    {
     "name": "stderr",
     "output_type": "stream",
     "text": [
      "C:\\Users\\utilisateur\\anaconda3\\lib\\site-packages\\sklearn\\manifold\\_t_sne.py:780: FutureWarning: The default initialization in TSNE will change from 'random' to 'pca' in 1.2.\n",
      "  warnings.warn(\n",
      "C:\\Users\\utilisateur\\anaconda3\\lib\\site-packages\\sklearn\\manifold\\_t_sne.py:790: FutureWarning: The default learning rate in TSNE will change from 200.0 to 'auto' in 1.2.\n",
      "  warnings.warn(\n"
     ]
    }
   ],
   "source": [
    "from sklearn.manifold import TSNE\n",
    "\n",
    "model = TSNE(n_components=3, random_state=0)\n",
    "tab = model.fit_transform(X)\n"
   ]
  },
  {
   "cell_type": "code",
   "execution_count": 37,
   "id": "c792b0ff",
   "metadata": {},
   "outputs": [],
   "source": [
    "bonheur = {}\n",
    "bonheur['axe1'] = tab[:,0]\n",
    "bonheur['axe2'] = tab[:,1]\n",
    "bonheur['axe3'] = tab[:,2]\n",
    "bonheur['label'] = y\n",
    "bonheur['region'] = region\n",
    "\n",
    "df2 = pd.DataFrame(bonheur)\n",
    "\n"
   ]
  },
  {
   "cell_type": "code",
   "execution_count": 38,
   "id": "07960fb0",
   "metadata": {},
   "outputs": [
    {
     "data": {
      "text/html": [
       "<div>\n",
       "<style scoped>\n",
       "    .dataframe tbody tr th:only-of-type {\n",
       "        vertical-align: middle;\n",
       "    }\n",
       "\n",
       "    .dataframe tbody tr th {\n",
       "        vertical-align: top;\n",
       "    }\n",
       "\n",
       "    .dataframe thead th {\n",
       "        text-align: right;\n",
       "    }\n",
       "</style>\n",
       "<table border=\"1\" class=\"dataframe\">\n",
       "  <thead>\n",
       "    <tr style=\"text-align: right;\">\n",
       "      <th></th>\n",
       "      <th>axe1</th>\n",
       "      <th>axe2</th>\n",
       "      <th>axe3</th>\n",
       "      <th>label</th>\n",
       "      <th>region</th>\n",
       "    </tr>\n",
       "  </thead>\n",
       "  <tbody>\n",
       "    <tr>\n",
       "      <th>0</th>\n",
       "      <td>-117.142807</td>\n",
       "      <td>28.360714</td>\n",
       "      <td>-94.580444</td>\n",
       "      <td>1</td>\n",
       "      <td>Finland</td>\n",
       "    </tr>\n",
       "    <tr>\n",
       "      <th>1</th>\n",
       "      <td>-143.646332</td>\n",
       "      <td>-40.670784</td>\n",
       "      <td>-127.370384</td>\n",
       "      <td>1</td>\n",
       "      <td>Denmark</td>\n",
       "    </tr>\n",
       "    <tr>\n",
       "      <th>2</th>\n",
       "      <td>-111.834663</td>\n",
       "      <td>-65.152481</td>\n",
       "      <td>-143.459137</td>\n",
       "      <td>1</td>\n",
       "      <td>Norway</td>\n",
       "    </tr>\n",
       "    <tr>\n",
       "      <th>3</th>\n",
       "      <td>-72.968109</td>\n",
       "      <td>-54.855854</td>\n",
       "      <td>-139.179733</td>\n",
       "      <td>1</td>\n",
       "      <td>Iceland</td>\n",
       "    </tr>\n",
       "    <tr>\n",
       "      <th>4</th>\n",
       "      <td>-92.823524</td>\n",
       "      <td>14.183029</td>\n",
       "      <td>-127.692596</td>\n",
       "      <td>1</td>\n",
       "      <td>Netherlands</td>\n",
       "    </tr>\n",
       "    <tr>\n",
       "      <th>...</th>\n",
       "      <td>...</td>\n",
       "      <td>...</td>\n",
       "      <td>...</td>\n",
       "      <td>...</td>\n",
       "      <td>...</td>\n",
       "    </tr>\n",
       "    <tr>\n",
       "      <th>151</th>\n",
       "      <td>27.346615</td>\n",
       "      <td>6.603389</td>\n",
       "      <td>156.794418</td>\n",
       "      <td>0</td>\n",
       "      <td>Rwanda</td>\n",
       "    </tr>\n",
       "    <tr>\n",
       "      <th>152</th>\n",
       "      <td>-0.579096</td>\n",
       "      <td>-2.157588</td>\n",
       "      <td>131.987732</td>\n",
       "      <td>0</td>\n",
       "      <td>Tanzania</td>\n",
       "    </tr>\n",
       "    <tr>\n",
       "      <th>153</th>\n",
       "      <td>65.850380</td>\n",
       "      <td>-57.162704</td>\n",
       "      <td>142.102097</td>\n",
       "      <td>0</td>\n",
       "      <td>Afghanistan</td>\n",
       "    </tr>\n",
       "    <tr>\n",
       "      <th>154</th>\n",
       "      <td>37.975609</td>\n",
       "      <td>44.121708</td>\n",
       "      <td>153.314651</td>\n",
       "      <td>0</td>\n",
       "      <td>Central African Republic</td>\n",
       "    </tr>\n",
       "    <tr>\n",
       "      <th>155</th>\n",
       "      <td>34.953224</td>\n",
       "      <td>-59.844368</td>\n",
       "      <td>118.023643</td>\n",
       "      <td>0</td>\n",
       "      <td>South Sudan</td>\n",
       "    </tr>\n",
       "  </tbody>\n",
       "</table>\n",
       "<p>156 rows × 5 columns</p>\n",
       "</div>"
      ],
      "text/plain": [
       "           axe1       axe2        axe3  label                    region\n",
       "0   -117.142807  28.360714  -94.580444      1                   Finland\n",
       "1   -143.646332 -40.670784 -127.370384      1                   Denmark\n",
       "2   -111.834663 -65.152481 -143.459137      1                    Norway\n",
       "3    -72.968109 -54.855854 -139.179733      1                   Iceland\n",
       "4    -92.823524  14.183029 -127.692596      1               Netherlands\n",
       "..          ...        ...         ...    ...                       ...\n",
       "151   27.346615   6.603389  156.794418      0                    Rwanda\n",
       "152   -0.579096  -2.157588  131.987732      0                  Tanzania\n",
       "153   65.850380 -57.162704  142.102097      0               Afghanistan\n",
       "154   37.975609  44.121708  153.314651      0  Central African Republic\n",
       "155   34.953224 -59.844368  118.023643      0               South Sudan\n",
       "\n",
       "[156 rows x 5 columns]"
      ]
     },
     "execution_count": 38,
     "metadata": {},
     "output_type": "execute_result"
    }
   ],
   "source": [
    "df2"
   ]
  },
  {
   "cell_type": "code",
   "execution_count": 34,
   "id": "d1a2ea23",
   "metadata": {},
   "outputs": [
    {
     "data": {
      "text/plain": [
       "<AxesSubplot:xlabel='axe1', ylabel='axe2'>"
      ]
     },
     "execution_count": 34,
     "metadata": {},
     "output_type": "execute_result"
    },
    {
     "data": {
      "image/png": "[encoded data removed]",
      "text/plain": [
       "<Figure size 432x288 with 1 Axes>"
      ]
     },
     "metadata": {
      "needs_background": "light"
     },
     "output_type": "display_data"
    }
   ],
   "source": [
    "sns.scatterplot(data=df2, x=\"axe1\", y=\"axe2\",hue=\"label\")"
   ]
  },
  {
   "cell_type": "code",
   "execution_count": 45,
   "id": "a235f755",
   "metadata": {},
   "outputs": [
    {
     "data": {
      "application/vnd.plotly.v1+json": {
       "config": {
        "plotlyServerURL": "https://plot.ly"
       },
       "data": [
        {
         "hovertemplate": "axe1=%{x}<br>axe2=%{y}<br>axe3=%{z}<br>region=%{text}<br>label=%{marker.color}<extra></extra>",
         "legendgroup": "",
         "marker": {
          "color": [
           1,
           1,
           1,
           1,
           1,
           1,
           1,
           1,
           1,
           1,
           1,
           1,
           1,
           1,
           1,
           1,
           1,
           1,
           1,
           1,
           1,
           1,
           1,
           1,
           1,
           1,
           1,
           1,
           1,
           1,
           1,
           1,
           1,
           1,
           1,
           1,
           1,
           1,
           1,
           1,
           1,
           1,
           1,
           1,
           1,
           1,
           1,
           1,
           1,
           1,
           1,
           1,
           1,
           1,
           1,
           1,
           1,
           1,
           1,
           1,
           1,
           1,
           1,
           1,
           1,
           1,
           1,
           1,
           1,
           1,
           1,
           1,
           1,
           1,
           1,
           1,
           1,
           1,
           1,
           0,
           0,
           0,
           0,
           0,
           0,
           0,
           0,
           0,
           0,
           0,
           0,
           0,
           0,
           0,
           0,
           0,
           0,
           0,
           0,
           0,
           0,
           0,
           0,
           0,
           0,
           0,
           0,
           0,
           0,
           0,
           0,
           0,
           0,
           0,
           0,
           0,
           0,
           0,
           0,
           0,
           0,
           0,
           0,
           0,
           0,
           0,
           0,
           0,
           0,
           0,
           0,
           0,
           0,
           0,
           0,
           0,
           0,
           0,
           0,
           0,
           0,
           0,
           0,
           0,
           0,
           0,
           0,
           0,
           0,
           0,
           0,
           0,
           0,
           0,
           0,
           0
          ],
          "coloraxis": "coloraxis",
          "symbol": "circle"
         },
         "mode": "markers+text",
         "name": "",
         "scene": "scene",
         "showlegend": false,
         "text": [
          "Finland",
          "Denmark",
          "Norway",
          "Iceland",
          "Netherlands",
          "Switzerland",
          "Sweden",
          "New Zealand",
          "Canada",
          "Austria",
          "Australia",
          "Costa Rica",
          "Israel",
          "Luxembourg",
          "United Kingdom",
          "Ireland",
          "Germany",
          "Belgium",
          "United States",
          "Czech Republic",
          "United Arab Emirates",
          "Malta",
          "Mexico",
          "France",
          "Taiwan",
          "Chile",
          "Guatemala",
          "Saudi Arabia",
          "Qatar",
          "Spain",
          "Panama",
          "Brazil",
          "Uruguay",
          "Singapore",
          "El Salvador",
          "Italy",
          "Bahrain",
          "Slovakia",
          "Trinidad & Tobago",
          "Poland",
          "Uzbekistan",
          "Lithuania",
          "Colombia",
          "Slovenia",
          "Nicaragua",
          "Kosovo",
          "Argentina",
          "Romania",
          "Cyprus",
          "Ecuador",
          "Kuwait",
          "Thailand",
          "Latvia",
          "South Korea",
          "Estonia",
          "Jamaica",
          "Mauritius",
          "Japan",
          "Honduras",
          "Kazakhstan",
          "Bolivia",
          "Hungary",
          "Paraguay",
          "Northern Cyprus",
          "Peru",
          "Portugal",
          "Pakistan",
          "Russia",
          "Philippines",
          "Serbia",
          "Moldova",
          "Libya",
          "Montenegro",
          "Tajikistan",
          "Croatia",
          "Hong Kong",
          "Dominican Republic",
          "Bosnia and Herzegovina",
          "Turkey",
          "Malaysia",
          "Belarus",
          "Greece",
          "Mongolia",
          "North Macedonia",
          "Nigeria",
          "Kyrgyzstan",
          "Turkmenistan",
          "Algeria",
          "Morocco",
          "Azerbaijan",
          "Lebanon",
          "Indonesia",
          "China",
          "Vietnam",
          "Bhutan",
          "Cameroon",
          "Bulgaria",
          "Ghana",
          "Ivory Coast",
          "Nepal",
          "Jordan",
          "Benin",
          "Congo (Brazzaville)",
          "Gabon",
          "Laos",
          "South Africa",
          "Albania",
          "Venezuela",
          "Cambodia",
          "Palestinian Territories",
          "Senegal",
          "Somalia",
          "Namibia",
          "Niger",
          "Burkina Faso",
          "Armenia",
          "Iran",
          "Guinea",
          "Georgia",
          "Gambia",
          "Kenya",
          "Mauritania",
          "Mozambique",
          "Tunisia",
          "Bangladesh",
          "Iraq",
          "Congo (Kinshasa)",
          "Mali",
          "Sierra Leone",
          "Sri Lanka",
          "Myanmar",
          "Chad",
          "Ukraine",
          "Ethiopia",
          "Swaziland",
          "Uganda",
          "Egypt",
          "Zambia",
          "Togo",
          "India",
          "Liberia",
          "Comoros",
          "Madagascar",
          "Lesotho",
          "Burundi",
          "Zimbabwe",
          "Haiti",
          "Botswana",
          "Syria",
          "Malawi",
          "Yemen",
          "Rwanda",
          "Tanzania",
          "Afghanistan",
          "Central African Republic",
          "South Sudan"
         ],
         "type": "scatter3d",
         "x": [
          -117.14280700683594,
          -143.64633178710938,
          -111.83466339111328,
          -72.96810913085938,
          -92.82352447509766,
          -67.78629302978516,
          -130.18031311035156,
          -105.67771911621094,
          -66.88839721679688,
          -106.09610748291016,
          130.00515747070312,
          -119.58876037597656,
          -95.70003509521484,
          -84.86390686035156,
          -180.71749877929688,
          -102.83675384521484,
          -135.17893981933594,
          -136.88180541992188,
          -169.3094940185547,
          -155.92706298828125,
          -138.99575805664062,
          -168.435546875,
          -118.94879913330078,
          -136.44671630859375,
          -109.88526153564453,
          -141.1474151611328,
          -130.15330505371094,
          -109.31402587890625,
          -134.05735778808594,
          -105.07750701904297,
          -123.87661743164062,
          -102.80755615234375,
          -78.00224304199219,
          -85.7762451171875,
          -82.79373931884766,
          -59.724525451660156,
          -70.00428009033203,
          -71.77520751953125,
          -25.903470993041992,
          79.70719909667969,
          -44.834659576416016,
          -45.73334503173828,
          -36.027244567871094,
          -33.517555236816406,
          -56.478458404541016,
          -30.854427337646484,
          -64.44769287109375,
          -37.40296173095703,
          -44.15980911254883,
          -68.7198715209961,
          -13.0455961227417,
          -33.28073501586914,
          -29.500085830688477,
          -29.753742218017578,
          -8.585664749145508,
          -5.096425533294678,
          -71.65174102783203,
          -37.37578201293945,
          -57.02042770385742,
          -46.686092376708984,
          -68.3020248413086,
          14.620720863342285,
          -89.38252258300781,
          -10.15534496307373,
          -68.0823974609375,
          -4.954947471618652,
          -30.207294464111328,
          18.927309036254883,
          15.483736991882324,
          54.43077850341797,
          2.015191078186035,
          -71.77330017089844,
          41.52470397949219,
          69.59525299072266,
          17.197860717773438,
          42.571319580078125,
          42.33616256713867,
          13.813568115234375,
          -70.29768371582031,
          77.56803131103516,
          52.5185661315918,
          48.68170166015625,
          83.2253189086914,
          14.608654022216797,
          -115.4884033203125,
          46.78711700439453,
          82.54328155517578,
          49.789794921875,
          23.604114532470703,
          -36.80501174926758,
          60.66764831542969,
          40.836936950683594,
          18.514360427856445,
          20.364233016967773,
          16.512258529663086,
          60.397865295410156,
          35.71575927734375,
          44.76377868652344,
          31.185016632080078,
          4.775048732757568,
          -3.2429072856903076,
          72.41409301757812,
          2.0982470512390137,
          27.354907989501953,
          27.572519302368164,
          34.944549560546875,
          0.13815581798553467,
          -6.121201992034912,
          46.71111297607422,
          58.40287780761719,
          64.02958679199219,
          71.94989013671875,
          72.39934539794922,
          71.7536849975586,
          107.54774475097656,
          107.70433044433594,
          96.02228546142578,
          122.75446319580078,
          100.53060150146484,
          99.5512466430664,
          111.30908966064453,
          138.6183319091797,
          136.6737823486328,
          140.9400177001953,
          105.03264617919922,
          136.10757446289062,
          123.7724609375,
          45.431358337402344,
          88.70117950439453,
          124.6324234008789,
          93.68232727050781,
          104.72882080078125,
          83.091552734375,
          9.162615776062012,
          115.75525665283203,
          123.26908111572266,
          90.0680923461914,
          62.305145263671875,
          106.74923706054688,
          60.59576416015625,
          83.47550201416016,
          33.8006477355957,
          82.18236541748047,
          64.09076690673828,
          70.61900329589844,
          46.993751525878906,
          25.945457458496094,
          83.41770935058594,
          15.782797813415527,
          -1.4140212535858154,
          47.95066452026367,
          27.346614837646484,
          -0.5790961384773254,
          65.85037994384766,
          37.975608825683594,
          34.953224182128906
         ],
         "y": [
          28.360713958740234,
          -40.67078399658203,
          -65.15248107910156,
          -54.85585403442383,
          14.183029174804688,
          -15.411296844482422,
          -2.566974639892578,
          -39.71942138671875,
          -39.46146011352539,
          -22.221439361572266,
          -72.70899200439453,
          -82.79248809814453,
          -8.969039916992188,
          -72.42608642578125,
          -59.03718566894531,
          -41.6772575378418,
          -18.710359573364258,
          -58.53086853027344,
          -21.466838836669922,
          -72.79837036132812,
          0.2249908596277237,
          -38.29148864746094,
          -84.20106506347656,
          -38.76811599731445,
          -54.0775146484375,
          -45.35684585571289,
          -82.53794860839844,
          -15.927983283996582,
          -9.4186372756958,
          -35.094810485839844,
          -64.82219696044922,
          -97.9198989868164,
          -76.07726287841797,
          -67.64562225341797,
          -60.48293685913086,
          -89.8892822265625,
          -105.92041778564453,
          -33.11604690551758,
          4.9955668449401855,
          -25.982635498046875,
          -62.67744064331055,
          -46.10650634765625,
          -26.708629608154297,
          -83.84129333496094,
          38.638641357421875,
          -22.09304428100586,
          -7.232570171356201,
          -40.59904861450195,
          7.33049201965332,
          34.28127670288086,
          -14.41479206085205,
          55.51247024536133,
          18.86434555053711,
          12.46639347076416,
          -120.10138702392578,
          23.536022186279297,
          24.524816513061523,
          48.24217224121094,
          38.5872917175293,
          42.379634857177734,
          68.29305267333984,
          -1.4775290489196777,
          39.912254333496094,
          -72.41790008544922,
          76.12374877929688,
          128.82412719726562,
          5.016550064086914,
          -45.35538864135742,
          -109.1872787475586,
          -101.58209228515625,
          -83.54476928710938,
          -4.3820881843566895,
          -78.01043701171875,
          -61.7605094909668,
          -78.69882202148438,
          -89.62301635742188,
          -52.55284118652344,
          -57.879058837890625,
          -16.29741668701172,
          -61.84720230102539,
          -17.710506439208984,
          -53.509979248046875,
          -20.40146255493164,
          -28.176654815673828,
          78.72084045410156,
          -17.873214721679688,
          -29.838768005371094,
          -13.963467597961426,
          9.045534133911133,
          115.87562561035156,
          15.54010009765625,
          40.89385986328125,
          -23.39751434326172,
          12.912092208862305,
          45.199954986572266,
          -42.688594818115234,
          81.80756378173828,
          51.90492248535156,
          -72.0802993774414,
          50.96735382080078,
          107.80638885498047,
          -86.47786712646484,
          82.04783630371094,
          64.24665069580078,
          83.50047302246094,
          114.0850830078125,
          100.9011001586914,
          68.44763946533203,
          16.07184600830078,
          50.02196502685547,
          85.46165466308594,
          80.79608154296875,
          46.062339782714844,
          116.78996276855469,
          32.138267517089844,
          99.05082702636719,
          108.15036010742188,
          63.49920654296875,
          69.83724975585938,
          34.559322357177734,
          76.38990020751953,
          39.58590316772461,
          85.38237762451172,
          58.1153564453125,
          41.62696075439453,
          17.86970329284668,
          84.69642639160156,
          83.1457748413086,
          70.67469024658203,
          44.91383361816406,
          74.74449920654297,
          9.338423728942871,
          39.532569885253906,
          51.73516845703125,
          46.27758026123047,
          2.559664011001587,
          19.422298431396484,
          45.63498306274414,
          7.96124792098999,
          1.8418302536010742,
          43.65544891357422,
          20.518268585205078,
          -24.073143005371094,
          9.529739379882812,
          15.19582462310791,
          -21.420469284057617,
          -16.00098991394043,
          -21.512788772583008,
          -35.650352478027344,
          -40.71938705444336,
          -23.4881534576416,
          6.603389263153076,
          -2.157588243484497,
          -57.16270446777344,
          44.121707916259766,
          -59.84436798095703
         ],
         "z": [
          -94.5804443359375,
          -127.3703842163086,
          -143.45913696289062,
          -139.1797332763672,
          -127.69259643554688,
          -133.10121154785156,
          -120.3824691772461,
          -112.1461181640625,
          -101.2362289428711,
          -148.07456970214844,
          28.946996688842773,
          -105.36756134033203,
          -90.06504821777344,
          -89.55654907226562,
          -18.796594619750977,
          -70.0406265258789,
          -81.15757751464844,
          -80.36923217773438,
          -32.40217590332031,
          -47.36970520019531,
          -46.244178771972656,
          -67.66474151611328,
          -52.27733612060547,
          -43.73876190185547,
          -28.898054122924805,
          -6.074070453643799,
          -12.098469734191895,
          -23.424236297607422,
          7.256968021392822,
          11.49956226348877,
          26.330080032348633,
          14.543339729309082,
          -36.58936309814453,
          -0.41224750876426697,
          36.96412658691406,
          22.087553024291992,
          -13.14802360534668,
          -12.221328735351562,
          -104.38105773925781,
          -95.54586029052734,
          -3.4349050521850586,
          -39.9124755859375,
          -2.827810287475586,
          -31.957828521728516,
          -83.91510772705078,
          -65.88212585449219,
          -52.7989501953125,
          33.5141716003418,
          -28.58721923828125,
          -43.88095474243164,
          -30.165775299072266,
          -50.20804214477539,
          -62.25471878051758,
          4.759726524353027,
          -8.399137496948242,
          -36.49881362915039,
          -3.097553253173828,
          -12.38361930847168,
          60.98535919189453,
          24.477563858032227,
          1.8685625791549683,
          -69.75555419921875,
          32.39339828491211,
          -82.09001159667969,
          44.80463409423828,
          76.5997085571289,
          53.68122482299805,
          -70.06356811523438,
          -64.48834991455078,
          -45.79170608520508,
          21.841211318969727,
          45.4084587097168,
          -77.83055114746094,
          -55.87051773071289,
          -39.32682418823242,
          -8.006742477416992,
          -30.98112678527832,
          -8.492146492004395,
          88.70298767089844,
          -14.512679100036621,
          -42.267032623291016,
          11.719749450683594,
          -17.63249397277832,
          14.796285629272461,
          -5.3328938484191895,
          -4.871740341186523,
          20.24492645263672,
          32.665164947509766,
          4.881856918334961,
          15.180219650268555,
          14.791698455810547,
          47.623008728027344,
          54.74506759643555,
          42.88722229003906,
          -9.15027141571045,
          58.42942810058594,
          29.83949851989746,
          11.042044639587402,
          61.65008544921875,
          27.50705337524414,
          -22.65043067932129,
          47.0629768371582,
          3.859348773956299,
          -63.14566421508789,
          -30.55965232849121,
          -5.744529724121094,
          38.71238708496094,
          62.952701568603516,
          -109.50885009765625,
          -31.877422332763672,
          -12.336405754089355,
          -51.14472961425781,
          -68.68916320800781,
          -37.89707946777344,
          -56.03312301635742,
          -34.80861282348633,
          2.844015121459961,
          -36.39931106567383,
          -5.059509754180908,
          -17.174650192260742,
          -70.0518798828125,
          -10.16886043548584,
          -0.47925224900245667,
          25.587268829345703,
          23.341449737548828,
          27.394054412841797,
          49.64013671875,
          91.7740707397461,
          45.11967086791992,
          64.09233093261719,
          84.51240539550781,
          57.83139419555664,
          67.86798858642578,
          111.8046875,
          104.41394805908203,
          92.62583923339844,
          98.43151092529297,
          102.28947448730469,
          130.53591918945312,
          86.74008178710938,
          134.88572692871094,
          110.25299072265625,
          108.44369506835938,
          127.84657287597656,
          164.558349609375,
          131.39279174804688,
          101.99978637695312,
          151.11581420898438,
          152.81163024902344,
          116.4569320678711,
          172.88766479492188,
          156.79441833496094,
          131.98773193359375,
          142.1020965576172,
          153.3146514892578,
          118.02364349365234
         ]
        }
       ],
       "layout": {
        "coloraxis": {
         "colorbar": {
          "title": {
           "text": "label"
          }
         },
         "colorscale": [
          [
           0,
           "#0d0887"
          ],
          [
           0.1111111111111111,
           "#46039f"
          ],
          [
           0.2222222222222222,
           "#7201a8"
          ],
          [
           0.3333333333333333,
           "#9c179e"
          ],
          [
           0.4444444444444444,
           "#bd3786"
          ],
          [
           0.5555555555555556,
           "#d8576b"
          ],
          [
           0.6666666666666666,
           "#ed7953"
          ],
          [
           0.7777777777777778,
           "#fb9f3a"
          ],
          [
           0.8888888888888888,
           "#fdca26"
          ],
          [
           1,
           "#f0f921"
          ]
         ]
        },
        "legend": {
         "tracegroupgap": 0
        },
        "margin": {
         "t": 60
        },
        "scene": {
         "domain": {
          "x": [
           0,
           1
          ],
          "y": [
           0,
           1
          ]
         },
         "xaxis": {
          "title": {
           "text": "axe1"
          }
         },
         "yaxis": {
          "title": {
           "text": "axe2"
          }
         },
         "zaxis": {
          "title": {
           "text": "axe3"
          }
         }
        },
        "template": {
         "data": {
          "bar": [
           {
            "error_x": {
             "color": "#2a3f5f"
            },
            "error_y": {
             "color": "#2a3f5f"
            },
            "marker": {
             "line": {
              "color": "#E5ECF6",
              "width": 0.5
             },
             "pattern": {
              "fillmode": "overlay",
              "size": 10,
              "solidity": 0.2
             }
            },
            "type": "bar"
           }
          ],
          "barpolar": [
           {
            "marker": {
             "line": {
              "color": "#E5ECF6",
              "width": 0.5
             },
             "pattern": {
              "fillmode": "overlay",
              "size": 10,
              "solidity": 0.2
             }
            },
            "type": "barpolar"
           }
          ],
          "carpet": [
           {
            "aaxis": {
             "endlinecolor": "#2a3f5f",
             "gridcolor": "white",
             "linecolor": "white",
             "minorgridcolor": "white",
             "startlinecolor": "#2a3f5f"
            },
            "baxis": {
             "endlinecolor": "#2a3f5f",
             "gridcolor": "white",
             "linecolor": "white",
             "minorgridcolor": "white",
             "startlinecolor": "#2a3f5f"
            },
            "type": "carpet"
           }
          ],
          "choropleth": [
           {
            "colorbar": {
             "outlinewidth": 0,
             "ticks": ""
            },
            "type": "choropleth"
           }
          ],
          "contour": [
           {
            "colorbar": {
             "outlinewidth": 0,
             "ticks": ""
            },
            "colorscale": [
             [
              0,
              "#0d0887"
             ],
             [
              0.1111111111111111,
              "#46039f"
             ],
             [
              0.2222222222222222,
              "#7201a8"
             ],
             [
              0.3333333333333333,
              "#9c179e"
             ],
             [
              0.4444444444444444,
              "#bd3786"
             ],
             [
              0.5555555555555556,
              "#d8576b"
             ],
             [
              0.6666666666666666,
              "#ed7953"
             ],
             [
              0.7777777777777778,
              "#fb9f3a"
             ],
             [
              0.8888888888888888,
              "#fdca26"
             ],
             [
              1,
              "#f0f921"
             ]
            ],
            "type": "contour"
           }
          ],
          "contourcarpet": [
           {
            "colorbar": {
             "outlinewidth": 0,
             "ticks": ""
            },
            "type": "contourcarpet"
           }
          ],
          "heatmap": [
           {
            "colorbar": {
             "outlinewidth": 0,
             "ticks": ""
            },
            "colorscale": [
             [
              0,
              "#0d0887"
             ],
             [
              0.1111111111111111,
              "#46039f"
             ],
             [
              0.2222222222222222,
              "#7201a8"
             ],
             [
              0.3333333333333333,
              "#9c179e"
             ],
             [
              0.4444444444444444,
              "#bd3786"
             ],
             [
              0.5555555555555556,
              "#d8576b"
             ],
             [
              0.6666666666666666,
              "#ed7953"
             ],
             [
              0.7777777777777778,
              "#fb9f3a"
             ],
             [
              0.8888888888888888,
              "#fdca26"
             ],
             [
              1,
              "#f0f921"
             ]
            ],
            "type": "heatmap"
           }
          ],
          "heatmapgl": [
           {
            "colorbar": {
             "outlinewidth": 0,
             "ticks": ""
            },
            "colorscale": [
             [
              0,
              "#0d0887"
             ],
             [
              0.1111111111111111,
              "#46039f"
             ],
             [
              0.2222222222222222,
              "#7201a8"
             ],
             [
              0.3333333333333333,
              "#9c179e"
             ],
             [
              0.4444444444444444,
              "#bd3786"
             ],
             [
              0.5555555555555556,
              "#d8576b"
             ],
             [
              0.6666666666666666,
              "#ed7953"
             ],
             [
              0.7777777777777778,
              "#fb9f3a"
             ],
             [
              0.8888888888888888,
              "#fdca26"
             ],
             [
              1,
              "#f0f921"
             ]
            ],
            "type": "heatmapgl"
           }
          ],
          "histogram": [
           {
            "marker": {
             "pattern": {
              "fillmode": "overlay",
              "size": 10,
              "solidity": 0.2
             }
            },
            "type": "histogram"
           }
          ],
          "histogram2d": [
           {
            "colorbar": {
             "outlinewidth": 0,
             "ticks": ""
            },
            "colorscale": [
             [
              0,
              "#0d0887"
             ],
             [
              0.1111111111111111,
              "#46039f"
             ],
             [
              0.2222222222222222,
              "#7201a8"
             ],
             [
              0.3333333333333333,
              "#9c179e"
             ],
             [
              0.4444444444444444,
              "#bd3786"
             ],
             [
              0.5555555555555556,
              "#d8576b"
             ],
             [
              0.6666666666666666,
              "#ed7953"
             ],
             [
              0.7777777777777778,
              "#fb9f3a"
             ],
             [
              0.8888888888888888,
              "#fdca26"
             ],
             [
              1,
              "#f0f921"
             ]
            ],
            "type": "histogram2d"
           }
          ],
          "histogram2dcontour": [
           {
            "colorbar": {
             "outlinewidth": 0,
             "ticks": ""
            },
            "colorscale": [
             [
              0,
              "#0d0887"
             ],
             [
              0.1111111111111111,
              "#46039f"
             ],
             [
              0.2222222222222222,
              "#7201a8"
             ],
             [
              0.3333333333333333,
              "#9c179e"
             ],
             [
              0.4444444444444444,
              "#bd3786"
             ],
             [
              0.5555555555555556,
              "#d8576b"
             ],
             [
              0.6666666666666666,
              "#ed7953"
             ],
             [
              0.7777777777777778,
              "#fb9f3a"
             ],
             [
              0.8888888888888888,
              "#fdca26"
             ],
             [
              1,
              "#f0f921"
             ]
            ],
            "type": "histogram2dcontour"
           }
          ],
          "mesh3d": [
           {
            "colorbar": {
             "outlinewidth": 0,
             "ticks": ""
            },
            "type": "mesh3d"
           }
          ],
          "parcoords": [
           {
            "line": {
             "colorbar": {
              "outlinewidth": 0,
              "ticks": ""
             }
            },
            "type": "parcoords"
           }
          ],
          "pie": [
           {
            "automargin": true,
            "type": "pie"
           }
          ],
          "scatter": [
           {
            "marker": {
             "colorbar": {
              "outlinewidth": 0,
              "ticks": ""
             }
            },
            "type": "scatter"
           }
          ],
          "scatter3d": [
           {
            "line": {
             "colorbar": {
              "outlinewidth": 0,
              "ticks": ""
             }
            },
            "marker": {
             "colorbar": {
              "outlinewidth": 0,
              "ticks": ""
             }
            },
            "type": "scatter3d"
           }
          ],
          "scattercarpet": [
           {
            "marker": {
             "colorbar": {
              "outlinewidth": 0,
              "ticks": ""
             }
            },
            "type": "scattercarpet"
           }
          ],
          "scattergeo": [
           {
            "marker": {
             "colorbar": {
              "outlinewidth": 0,
              "ticks": ""
             }
            },
            "type": "scattergeo"
           }
          ],
          "scattergl": [
           {
            "marker": {
             "colorbar": {
              "outlinewidth": 0,
              "ticks": ""
             }
            },
            "type": "scattergl"
           }
          ],
          "scattermapbox": [
           {
            "marker": {
             "colorbar": {
              "outlinewidth": 0,
              "ticks": ""
             }
            },
            "type": "scattermapbox"
           }
          ],
          "scatterpolar": [
           {
            "marker": {
             "colorbar": {
              "outlinewidth": 0,
              "ticks": ""
             }
            },
            "type": "scatterpolar"
           }
          ],
          "scatterpolargl": [
           {
            "marker": {
             "colorbar": {
              "outlinewidth": 0,
              "ticks": ""
             }
            },
            "type": "scatterpolargl"
           }
          ],
          "scatterternary": [
           {
            "marker": {
             "colorbar": {
              "outlinewidth": 0,
              "ticks": ""
             }
            },
            "type": "scatterternary"
           }
          ],
          "surface": [
           {
            "colorbar": {
             "outlinewidth": 0,
             "ticks": ""
            },
            "colorscale": [
             [
              0,
              "#0d0887"
             ],
             [
              0.1111111111111111,
              "#46039f"
             ],
             [
              0.2222222222222222,
              "#7201a8"
             ],
             [
              0.3333333333333333,
              "#9c179e"
             ],
             [
              0.4444444444444444,
              "#bd3786"
             ],
             [
              0.5555555555555556,
              "#d8576b"
             ],
             [
              0.6666666666666666,
              "#ed7953"
             ],
             [
              0.7777777777777778,
              "#fb9f3a"
             ],
             [
              0.8888888888888888,
              "#fdca26"
             ],
             [
              1,
              "#f0f921"
             ]
            ],
            "type": "surface"
           }
          ],
          "table": [
           {
            "cells": {
             "fill": {
              "color": "#EBF0F8"
             },
             "line": {
              "color": "white"
             }
            },
            "header": {
             "fill": {
              "color": "#C8D4E3"
             },
             "line": {
              "color": "white"
             }
            },
            "type": "table"
           }
          ]
         },
         "layout": {
          "annotationdefaults": {
           "arrowcolor": "#2a3f5f",
           "arrowhead": 0,
           "arrowwidth": 1
          },
          "autotypenumbers": "strict",
          "coloraxis": {
           "colorbar": {
            "outlinewidth": 0,
            "ticks": ""
           }
          },
          "colorscale": {
           "diverging": [
            [
             0,
             "#8e0152"
            ],
            [
             0.1,
             "#c51b7d"
            ],
            [
             0.2,
             "#de77ae"
            ],
            [
             0.3,
             "#f1b6da"
            ],
            [
             0.4,
             "#fde0ef"
            ],
            [
             0.5,
             "#f7f7f7"
            ],
            [
             0.6,
             "#e6f5d0"
            ],
            [
             0.7,
             "#b8e186"
            ],
            [
             0.8,
             "#7fbc41"
            ],
            [
             0.9,
             "#4d9221"
            ],
            [
             1,
             "#276419"
            ]
           ],
           "sequential": [
            [
             0,
             "#0d0887"
            ],
            [
             0.1111111111111111,
             "#46039f"
            ],
            [
             0.2222222222222222,
             "#7201a8"
            ],
            [
             0.3333333333333333,
             "#9c179e"
            ],
            [
             0.4444444444444444,
             "#bd3786"
            ],
            [
             0.5555555555555556,
             "#d8576b"
            ],
            [
             0.6666666666666666,
             "#ed7953"
            ],
            [
             0.7777777777777778,
             "#fb9f3a"
            ],
            [
             0.8888888888888888,
             "#fdca26"
            ],
            [
             1,
             "#f0f921"
            ]
           ],
           "sequentialminus": [
            [
             0,
             "#0d0887"
            ],
            [
             0.1111111111111111,
             "#46039f"
            ],
            [
             0.2222222222222222,
             "#7201a8"
            ],
            [
             0.3333333333333333,
             "#9c179e"
            ],
            [
             0.4444444444444444,
             "#bd3786"
            ],
            [
             0.5555555555555556,
             "#d8576b"
            ],
            [
             0.6666666666666666,
             "#ed7953"
            ],
            [
             0.7777777777777778,
             "#fb9f3a"
            ],
            [
             0.8888888888888888,
             "#fdca26"
            ],
            [
             1,
             "#f0f921"
            ]
           ]
          },
          "colorway": [
           "#636efa",
           "#EF553B",
           "#00cc96",
           "#ab63fa",
           "#FFA15A",
           "#19d3f3",
           "#FF6692",
           "#B6E880",
           "#FF97FF",
           "#FECB52"
          ],
          "font": {
           "color": "#2a3f5f"
          },
          "geo": {
           "bgcolor": "white",
           "lakecolor": "white",
           "landcolor": "#E5ECF6",
           "showlakes": true,
           "showland": true,
           "subunitcolor": "white"
          },
          "hoverlabel": {
           "align": "left"
          },
          "hovermode": "closest",
          "mapbox": {
           "style": "light"
          },
          "paper_bgcolor": "white",
          "plot_bgcolor": "#E5ECF6",
          "polar": {
           "angularaxis": {
            "gridcolor": "white",
            "linecolor": "white",
            "ticks": ""
           },
           "bgcolor": "#E5ECF6",
           "radialaxis": {
            "gridcolor": "white",
            "linecolor": "white",
            "ticks": ""
           }
          },
          "scene": {
           "xaxis": {
            "backgroundcolor": "#E5ECF6",
            "gridcolor": "white",
            "gridwidth": 2,
            "linecolor": "white",
            "showbackground": true,
            "ticks": "",
            "zerolinecolor": "white"
           },
           "yaxis": {
            "backgroundcolor": "#E5ECF6",
            "gridcolor": "white",
            "gridwidth": 2,
            "linecolor": "white",
            "showbackground": true,
            "ticks": "",
            "zerolinecolor": "white"
           },
           "zaxis": {
            "backgroundcolor": "#E5ECF6",
            "gridcolor": "white",
            "gridwidth": 2,
            "linecolor": "white",
            "showbackground": true,
            "ticks": "",
            "zerolinecolor": "white"
           }
          },
          "shapedefaults": {
           "line": {
            "color": "#2a3f5f"
           }
          },
          "ternary": {
           "aaxis": {
            "gridcolor": "white",
            "linecolor": "white",
            "ticks": ""
           },
           "baxis": {
            "gridcolor": "white",
            "linecolor": "white",
            "ticks": ""
           },
           "bgcolor": "#E5ECF6",
           "caxis": {
            "gridcolor": "white",
            "linecolor": "white",
            "ticks": ""
           }
          },
          "title": {
           "x": 0.05
          },
          "xaxis": {
           "automargin": true,
           "gridcolor": "white",
           "linecolor": "white",
           "ticks": "",
           "title": {
            "standoff": 15
           },
           "zerolinecolor": "white",
           "zerolinewidth": 2
          },
          "yaxis": {
           "automargin": true,
           "gridcolor": "white",
           "linecolor": "white",
           "ticks": "",
           "title": {
            "standoff": 15
           },
           "zerolinecolor": "white",
           "zerolinewidth": 2
          }
         }
        }
       }
      },
      "text/html": [
       "<div>                            <div id=\"3ff1071d-6048-4292-bbdd-367eae146920\" class=\"plotly-graph-div\" style=\"height:525px; width:100%;\"></div>            <script type=\"text/javascript\">                require([\"plotly\"], function(Plotly) {                    window.PLOTLYENV=window.PLOTLYENV || {};                                    if (document.getElementById(\"3ff1071d-6048-4292-bbdd-367eae146920\")) {                    Plotly.newPlot(                        \"3ff1071d-6048-4292-bbdd-367eae146920\",                        [{\"hovertemplate\":\"axe1=%{x}<br>axe2=%{y}<br>axe3=%{z}<br>region=%{text}<br>label=%{marker.color}<extra></extra>\",\"legendgroup\":\"\",\"marker\":{\"color\":[1,1,1,1,1,1,1,1,1,1,1,1,1,1,1,1,1,1,1,1,1,1,1,1,1,1,1,1,1,1,1,1,1,1,1,1,1,1,1,1,1,1,1,1,1,1,1,1,1,1,1,1,1,1,1,1,1,1,1,1,1,1,1,1,1,1,1,1,1,1,1,1,1,1,1,1,1,1,1,0,0,0,0,0,0,0,0,0,0,0,0,0,0,0,0,0,0,0,0,0,0,0,0,0,0,0,0,0,0,0,0,0,0,0,0,0,0,0,0,0,0,0,0,0,0,0,0,0,0,0,0,0,0,0,0,0,0,0,0,0,0,0,0,0,0,0,0,0,0,0,0,0,0,0,0,0],\"coloraxis\":\"coloraxis\",\"symbol\":\"circle\"},\"mode\":\"markers+text\",\"name\":\"\",\"scene\":\"scene\",\"showlegend\":false,\"text\":[\"Finland\",\"Denmark\",\"Norway\",\"Iceland\",\"Netherlands\",\"Switzerland\",\"Sweden\",\"New Zealand\",\"Canada\",\"Austria\",\"Australia\",\"Costa Rica\",\"Israel\",\"Luxembourg\",\"United Kingdom\",\"Ireland\",\"Germany\",\"Belgium\",\"United States\",\"Czech Republic\",\"United Arab Emirates\",\"Malta\",\"Mexico\",\"France\",\"Taiwan\",\"Chile\",\"Guatemala\",\"Saudi Arabia\",\"Qatar\",\"Spain\",\"Panama\",\"Brazil\",\"Uruguay\",\"Singapore\",\"El Salvador\",\"Italy\",\"Bahrain\",\"Slovakia\",\"Trinidad & Tobago\",\"Poland\",\"Uzbekistan\",\"Lithuania\",\"Colombia\",\"Slovenia\",\"Nicaragua\",\"Kosovo\",\"Argentina\",\"Romania\",\"Cyprus\",\"Ecuador\",\"Kuwait\",\"Thailand\",\"Latvia\",\"South Korea\",\"Estonia\",\"Jamaica\",\"Mauritius\",\"Japan\",\"Honduras\",\"Kazakhstan\",\"Bolivia\",\"Hungary\",\"Paraguay\",\"Northern Cyprus\",\"Peru\",\"Portugal\",\"Pakistan\",\"Russia\",\"Philippines\",\"Serbia\",\"Moldova\",\"Libya\",\"Montenegro\",\"Tajikistan\",\"Croatia\",\"Hong Kong\",\"Dominican Republic\",\"Bosnia and Herzegovina\",\"Turkey\",\"Malaysia\",\"Belarus\",\"Greece\",\"Mongolia\",\"North Macedonia\",\"Nigeria\",\"Kyrgyzstan\",\"Turkmenistan\",\"Algeria\",\"Morocco\",\"Azerbaijan\",\"Lebanon\",\"Indonesia\",\"China\",\"Vietnam\",\"Bhutan\",\"Cameroon\",\"Bulgaria\",\"Ghana\",\"Ivory Coast\",\"Nepal\",\"Jordan\",\"Benin\",\"Congo (Brazzaville)\",\"Gabon\",\"Laos\",\"South Africa\",\"Albania\",\"Venezuela\",\"Cambodia\",\"Palestinian Territories\",\"Senegal\",\"Somalia\",\"Namibia\",\"Niger\",\"Burkina Faso\",\"Armenia\",\"Iran\",\"Guinea\",\"Georgia\",\"Gambia\",\"Kenya\",\"Mauritania\",\"Mozambique\",\"Tunisia\",\"Bangladesh\",\"Iraq\",\"Congo (Kinshasa)\",\"Mali\",\"Sierra Leone\",\"Sri Lanka\",\"Myanmar\",\"Chad\",\"Ukraine\",\"Ethiopia\",\"Swaziland\",\"Uganda\",\"Egypt\",\"Zambia\",\"Togo\",\"India\",\"Liberia\",\"Comoros\",\"Madagascar\",\"Lesotho\",\"Burundi\",\"Zimbabwe\",\"Haiti\",\"Botswana\",\"Syria\",\"Malawi\",\"Yemen\",\"Rwanda\",\"Tanzania\",\"Afghanistan\",\"Central African Republic\",\"South Sudan\"],\"x\":[-117.14280700683594,-143.64633178710938,-111.83466339111328,-72.96810913085938,-92.82352447509766,-67.78629302978516,-130.18031311035156,-105.67771911621094,-66.88839721679688,-106.09610748291016,130.00515747070312,-119.58876037597656,-95.70003509521484,-84.86390686035156,-180.71749877929688,-102.83675384521484,-135.17893981933594,-136.88180541992188,-169.3094940185547,-155.92706298828125,-138.99575805664062,-168.435546875,-118.94879913330078,-136.44671630859375,-109.88526153564453,-141.1474151611328,-130.15330505371094,-109.31402587890625,-134.05735778808594,-105.07750701904297,-123.87661743164062,-102.80755615234375,-78.00224304199219,-85.7762451171875,-82.79373931884766,-59.724525451660156,-70.00428009033203,-71.77520751953125,-25.903470993041992,79.70719909667969,-44.834659576416016,-45.73334503173828,-36.027244567871094,-33.517555236816406,-56.478458404541016,-30.854427337646484,-64.44769287109375,-37.40296173095703,-44.15980911254883,-68.7198715209961,-13.0455961227417,-33.28073501586914,-29.500085830688477,-29.753742218017578,-8.585664749145508,-5.096425533294678,-71.65174102783203,-37.37578201293945,-57.02042770385742,-46.686092376708984,-68.3020248413086,14.620720863342285,-89.38252258300781,-10.15534496307373,-68.0823974609375,-4.954947471618652,-30.207294464111328,18.927309036254883,15.483736991882324,54.43077850341797,2.015191078186035,-71.77330017089844,41.52470397949219,69.59525299072266,17.197860717773438,42.571319580078125,42.33616256713867,13.813568115234375,-70.29768371582031,77.56803131103516,52.5185661315918,48.68170166015625,83.2253189086914,14.608654022216797,-115.4884033203125,46.78711700439453,82.54328155517578,49.789794921875,23.604114532470703,-36.80501174926758,60.66764831542969,40.836936950683594,18.514360427856445,20.364233016967773,16.512258529663086,60.397865295410156,35.71575927734375,44.76377868652344,31.185016632080078,4.775048732757568,-3.2429072856903076,72.41409301757812,2.0982470512390137,27.354907989501953,27.572519302368164,34.944549560546875,0.13815581798553467,-6.121201992034912,46.71111297607422,58.40287780761719,64.02958679199219,71.94989013671875,72.39934539794922,71.7536849975586,107.54774475097656,107.70433044433594,96.02228546142578,122.75446319580078,100.53060150146484,99.5512466430664,111.30908966064453,138.6183319091797,136.6737823486328,140.9400177001953,105.03264617919922,136.10757446289062,123.7724609375,45.431358337402344,88.70117950439453,124.6324234008789,93.68232727050781,104.72882080078125,83.091552734375,9.162615776062012,115.75525665283203,123.26908111572266,90.0680923461914,62.305145263671875,106.74923706054688,60.59576416015625,83.47550201416016,33.8006477355957,82.18236541748047,64.09076690673828,70.61900329589844,46.993751525878906,25.945457458496094,83.41770935058594,15.782797813415527,-1.4140212535858154,47.95066452026367,27.346614837646484,-0.5790961384773254,65.85037994384766,37.975608825683594,34.953224182128906],\"y\":[28.360713958740234,-40.67078399658203,-65.15248107910156,-54.85585403442383,14.183029174804688,-15.411296844482422,-2.566974639892578,-39.71942138671875,-39.46146011352539,-22.221439361572266,-72.70899200439453,-82.79248809814453,-8.969039916992188,-72.42608642578125,-59.03718566894531,-41.6772575378418,-18.710359573364258,-58.53086853027344,-21.466838836669922,-72.79837036132812,0.2249908596277237,-38.29148864746094,-84.20106506347656,-38.76811599731445,-54.0775146484375,-45.35684585571289,-82.53794860839844,-15.927983283996582,-9.4186372756958,-35.094810485839844,-64.82219696044922,-97.9198989868164,-76.07726287841797,-67.64562225341797,-60.48293685913086,-89.8892822265625,-105.92041778564453,-33.11604690551758,4.9955668449401855,-25.982635498046875,-62.67744064331055,-46.10650634765625,-26.708629608154297,-83.84129333496094,38.638641357421875,-22.09304428100586,-7.232570171356201,-40.59904861450195,7.33049201965332,34.28127670288086,-14.41479206085205,55.51247024536133,18.86434555053711,12.46639347076416,-120.10138702392578,23.536022186279297,24.524816513061523,48.24217224121094,38.5872917175293,42.379634857177734,68.29305267333984,-1.4775290489196777,39.912254333496094,-72.41790008544922,76.12374877929688,128.82412719726562,5.016550064086914,-45.35538864135742,-109.1872787475586,-101.58209228515625,-83.54476928710938,-4.3820881843566895,-78.01043701171875,-61.7605094909668,-78.69882202148438,-89.62301635742188,-52.55284118652344,-57.879058837890625,-16.29741668701172,-61.84720230102539,-17.710506439208984,-53.509979248046875,-20.40146255493164,-28.176654815673828,78.72084045410156,-17.873214721679688,-29.838768005371094,-13.963467597961426,9.045534133911133,115.87562561035156,15.54010009765625,40.89385986328125,-23.39751434326172,12.912092208862305,45.199954986572266,-42.688594818115234,81.80756378173828,51.90492248535156,-72.0802993774414,50.96735382080078,107.80638885498047,-86.47786712646484,82.04783630371094,64.24665069580078,83.50047302246094,114.0850830078125,100.9011001586914,68.44763946533203,16.07184600830078,50.02196502685547,85.46165466308594,80.79608154296875,46.062339782714844,116.78996276855469,32.138267517089844,99.05082702636719,108.15036010742188,63.49920654296875,69.83724975585938,34.559322357177734,76.38990020751953,39.58590316772461,85.38237762451172,58.1153564453125,41.62696075439453,17.86970329284668,84.69642639160156,83.1457748413086,70.67469024658203,44.91383361816406,74.74449920654297,9.338423728942871,39.532569885253906,51.73516845703125,46.27758026123047,2.559664011001587,19.422298431396484,45.63498306274414,7.96124792098999,1.8418302536010742,43.65544891357422,20.518268585205078,-24.073143005371094,9.529739379882812,15.19582462310791,-21.420469284057617,-16.00098991394043,-21.512788772583008,-35.650352478027344,-40.71938705444336,-23.4881534576416,6.603389263153076,-2.157588243484497,-57.16270446777344,44.121707916259766,-59.84436798095703],\"z\":[-94.5804443359375,-127.3703842163086,-143.45913696289062,-139.1797332763672,-127.69259643554688,-133.10121154785156,-120.3824691772461,-112.1461181640625,-101.2362289428711,-148.07456970214844,28.946996688842773,-105.36756134033203,-90.06504821777344,-89.55654907226562,-18.796594619750977,-70.0406265258789,-81.15757751464844,-80.36923217773438,-32.40217590332031,-47.36970520019531,-46.244178771972656,-67.66474151611328,-52.27733612060547,-43.73876190185547,-28.898054122924805,-6.074070453643799,-12.098469734191895,-23.424236297607422,7.256968021392822,11.49956226348877,26.330080032348633,14.543339729309082,-36.58936309814453,-0.41224750876426697,36.96412658691406,22.087553024291992,-13.14802360534668,-12.221328735351562,-104.38105773925781,-95.54586029052734,-3.4349050521850586,-39.9124755859375,-2.827810287475586,-31.957828521728516,-83.91510772705078,-65.88212585449219,-52.7989501953125,33.5141716003418,-28.58721923828125,-43.88095474243164,-30.165775299072266,-50.20804214477539,-62.25471878051758,4.759726524353027,-8.399137496948242,-36.49881362915039,-3.097553253173828,-12.38361930847168,60.98535919189453,24.477563858032227,1.8685625791549683,-69.75555419921875,32.39339828491211,-82.09001159667969,44.80463409423828,76.5997085571289,53.68122482299805,-70.06356811523438,-64.48834991455078,-45.79170608520508,21.841211318969727,45.4084587097168,-77.83055114746094,-55.87051773071289,-39.32682418823242,-8.006742477416992,-30.98112678527832,-8.492146492004395,88.70298767089844,-14.512679100036621,-42.267032623291016,11.719749450683594,-17.63249397277832,14.796285629272461,-5.3328938484191895,-4.871740341186523,20.24492645263672,32.665164947509766,4.881856918334961,15.180219650268555,14.791698455810547,47.623008728027344,54.74506759643555,42.88722229003906,-9.15027141571045,58.42942810058594,29.83949851989746,11.042044639587402,61.65008544921875,27.50705337524414,-22.65043067932129,47.0629768371582,3.859348773956299,-63.14566421508789,-30.55965232849121,-5.744529724121094,38.71238708496094,62.952701568603516,-109.50885009765625,-31.877422332763672,-12.336405754089355,-51.14472961425781,-68.68916320800781,-37.89707946777344,-56.03312301635742,-34.80861282348633,2.844015121459961,-36.39931106567383,-5.059509754180908,-17.174650192260742,-70.0518798828125,-10.16886043548584,-0.47925224900245667,25.587268829345703,23.341449737548828,27.394054412841797,49.64013671875,91.7740707397461,45.11967086791992,64.09233093261719,84.51240539550781,57.83139419555664,67.86798858642578,111.8046875,104.41394805908203,92.62583923339844,98.43151092529297,102.28947448730469,130.53591918945312,86.74008178710938,134.88572692871094,110.25299072265625,108.44369506835938,127.84657287597656,164.558349609375,131.39279174804688,101.99978637695312,151.11581420898438,152.81163024902344,116.4569320678711,172.88766479492188,156.79441833496094,131.98773193359375,142.1020965576172,153.3146514892578,118.02364349365234],\"type\":\"scatter3d\"}],                        {\"template\":{\"data\":{\"bar\":[{\"error_x\":{\"color\":\"#2a3f5f\"},\"error_y\":{\"color\":\"#2a3f5f\"},\"marker\":{\"line\":{\"color\":\"#E5ECF6\",\"width\":0.5},\"pattern\":{\"fillmode\":\"overlay\",\"size\":10,\"solidity\":0.2}},\"type\":\"bar\"}],\"barpolar\":[{\"marker\":{\"line\":{\"color\":\"#E5ECF6\",\"width\":0.5},\"pattern\":{\"fillmode\":\"overlay\",\"size\":10,\"solidity\":0.2}},\"type\":\"barpolar\"}],\"carpet\":[{\"aaxis\":{\"endlinecolor\":\"#2a3f5f\",\"gridcolor\":\"white\",\"linecolor\":\"white\",\"minorgridcolor\":\"white\",\"startlinecolor\":\"#2a3f5f\"},\"baxis\":{\"endlinecolor\":\"#2a3f5f\",\"gridcolor\":\"white\",\"linecolor\":\"white\",\"minorgridcolor\":\"white\",\"startlinecolor\":\"#2a3f5f\"},\"type\":\"carpet\"}],\"choropleth\":[{\"colorbar\":{\"outlinewidth\":0,\"ticks\":\"\"},\"type\":\"choropleth\"}],\"contour\":[{\"colorbar\":{\"outlinewidth\":0,\"ticks\":\"\"},\"colorscale\":[[0.0,\"#0d0887\"],[0.1111111111111111,\"#46039f\"],[0.2222222222222222,\"#7201a8\"],[0.3333333333333333,\"#9c179e\"],[0.4444444444444444,\"#bd3786\"],[0.5555555555555556,\"#d8576b\"],[0.6666666666666666,\"#ed7953\"],[0.7777777777777778,\"#fb9f3a\"],[0.8888888888888888,\"#fdca26\"],[1.0,\"#f0f921\"]],\"type\":\"contour\"}],\"contourcarpet\":[{\"colorbar\":{\"outlinewidth\":0,\"ticks\":\"\"},\"type\":\"contourcarpet\"}],\"heatmap\":[{\"colorbar\":{\"outlinewidth\":0,\"ticks\":\"\"},\"colorscale\":[[0.0,\"#0d0887\"],[0.1111111111111111,\"#46039f\"],[0.2222222222222222,\"#7201a8\"],[0.3333333333333333,\"#9c179e\"],[0.4444444444444444,\"#bd3786\"],[0.5555555555555556,\"#d8576b\"],[0.6666666666666666,\"#ed7953\"],[0.7777777777777778,\"#fb9f3a\"],[0.8888888888888888,\"#fdca26\"],[1.0,\"#f0f921\"]],\"type\":\"heatmap\"}],\"heatmapgl\":[{\"colorbar\":{\"outlinewidth\":0,\"ticks\":\"\"},\"colorscale\":[[0.0,\"#0d0887\"],[0.1111111111111111,\"#46039f\"],[0.2222222222222222,\"#7201a8\"],[0.3333333333333333,\"#9c179e\"],[0.4444444444444444,\"#bd3786\"],[0.5555555555555556,\"#d8576b\"],[0.6666666666666666,\"#ed7953\"],[0.7777777777777778,\"#fb9f3a\"],[0.8888888888888888,\"#fdca26\"],[1.0,\"#f0f921\"]],\"type\":\"heatmapgl\"}],\"histogram\":[{\"marker\":{\"pattern\":{\"fillmode\":\"overlay\",\"size\":10,\"solidity\":0.2}},\"type\":\"histogram\"}],\"histogram2d\":[{\"colorbar\":{\"outlinewidth\":0,\"ticks\":\"\"},\"colorscale\":[[0.0,\"#0d0887\"],[0.1111111111111111,\"#46039f\"],[0.2222222222222222,\"#7201a8\"],[0.3333333333333333,\"#9c179e\"],[0.4444444444444444,\"#bd3786\"],[0.5555555555555556,\"#d8576b\"],[0.6666666666666666,\"#ed7953\"],[0.7777777777777778,\"#fb9f3a\"],[0.8888888888888888,\"#fdca26\"],[1.0,\"#f0f921\"]],\"type\":\"histogram2d\"}],\"histogram2dcontour\":[{\"colorbar\":{\"outlinewidth\":0,\"ticks\":\"\"},\"colorscale\":[[0.0,\"#0d0887\"],[0.1111111111111111,\"#46039f\"],[0.2222222222222222,\"#7201a8\"],[0.3333333333333333,\"#9c179e\"],[0.4444444444444444,\"#bd3786\"],[0.5555555555555556,\"#d8576b\"],[0.6666666666666666,\"#ed7953\"],[0.7777777777777778,\"#fb9f3a\"],[0.8888888888888888,\"#fdca26\"],[1.0,\"#f0f921\"]],\"type\":\"histogram2dcontour\"}],\"mesh3d\":[{\"colorbar\":{\"outlinewidth\":0,\"ticks\":\"\"},\"type\":\"mesh3d\"}],\"parcoords\":[{\"line\":{\"colorbar\":{\"outlinewidth\":0,\"ticks\":\"\"}},\"type\":\"parcoords\"}],\"pie\":[{\"automargin\":true,\"type\":\"pie\"}],\"scatter\":[{\"marker\":{\"colorbar\":{\"outlinewidth\":0,\"ticks\":\"\"}},\"type\":\"scatter\"}],\"scatter3d\":[{\"line\":{\"colorbar\":{\"outlinewidth\":0,\"ticks\":\"\"}},\"marker\":{\"colorbar\":{\"outlinewidth\":0,\"ticks\":\"\"}},\"type\":\"scatter3d\"}],\"scattercarpet\":[{\"marker\":{\"colorbar\":{\"outlinewidth\":0,\"ticks\":\"\"}},\"type\":\"scattercarpet\"}],\"scattergeo\":[{\"marker\":{\"colorbar\":{\"outlinewidth\":0,\"ticks\":\"\"}},\"type\":\"scattergeo\"}],\"scattergl\":[{\"marker\":{\"colorbar\":{\"outlinewidth\":0,\"ticks\":\"\"}},\"type\":\"scattergl\"}],\"scattermapbox\":[{\"marker\":{\"colorbar\":{\"outlinewidth\":0,\"ticks\":\"\"}},\"type\":\"scattermapbox\"}],\"scatterpolar\":[{\"marker\":{\"colorbar\":{\"outlinewidth\":0,\"ticks\":\"\"}},\"type\":\"scatterpolar\"}],\"scatterpolargl\":[{\"marker\":{\"colorbar\":{\"outlinewidth\":0,\"ticks\":\"\"}},\"type\":\"scatterpolargl\"}],\"scatterternary\":[{\"marker\":{\"colorbar\":{\"outlinewidth\":0,\"ticks\":\"\"}},\"type\":\"scatterternary\"}],\"surface\":[{\"colorbar\":{\"outlinewidth\":0,\"ticks\":\"\"},\"colorscale\":[[0.0,\"#0d0887\"],[0.1111111111111111,\"#46039f\"],[0.2222222222222222,\"#7201a8\"],[0.3333333333333333,\"#9c179e\"],[0.4444444444444444,\"#bd3786\"],[0.5555555555555556,\"#d8576b\"],[0.6666666666666666,\"#ed7953\"],[0.7777777777777778,\"#fb9f3a\"],[0.8888888888888888,\"#fdca26\"],[1.0,\"#f0f921\"]],\"type\":\"surface\"}],\"table\":[{\"cells\":{\"fill\":{\"color\":\"#EBF0F8\"},\"line\":{\"color\":\"white\"}},\"header\":{\"fill\":{\"color\":\"#C8D4E3\"},\"line\":{\"color\":\"white\"}},\"type\":\"table\"}]},\"layout\":{\"annotationdefaults\":{\"arrowcolor\":\"#2a3f5f\",\"arrowhead\":0,\"arrowwidth\":1},\"autotypenumbers\":\"strict\",\"coloraxis\":{\"colorbar\":{\"outlinewidth\":0,\"ticks\":\"\"}},\"colorscale\":{\"diverging\":[[0,\"#8e0152\"],[0.1,\"#c51b7d\"],[0.2,\"#de77ae\"],[0.3,\"#f1b6da\"],[0.4,\"#fde0ef\"],[0.5,\"#f7f7f7\"],[0.6,\"#e6f5d0\"],[0.7,\"#b8e186\"],[0.8,\"#7fbc41\"],[0.9,\"#4d9221\"],[1,\"#276419\"]],\"sequential\":[[0.0,\"#0d0887\"],[0.1111111111111111,\"#46039f\"],[0.2222222222222222,\"#7201a8\"],[0.3333333333333333,\"#9c179e\"],[0.4444444444444444,\"#bd3786\"],[0.5555555555555556,\"#d8576b\"],[0.6666666666666666,\"#ed7953\"],[0.7777777777777778,\"#fb9f3a\"],[0.8888888888888888,\"#fdca26\"],[1.0,\"#f0f921\"]],\"sequentialminus\":[[0.0,\"#0d0887\"],[0.1111111111111111,\"#46039f\"],[0.2222222222222222,\"#7201a8\"],[0.3333333333333333,\"#9c179e\"],[0.4444444444444444,\"#bd3786\"],[0.5555555555555556,\"#d8576b\"],[0.6666666666666666,\"#ed7953\"],[0.7777777777777778,\"#fb9f3a\"],[0.8888888888888888,\"#fdca26\"],[1.0,\"#f0f921\"]]},\"colorway\":[\"#636efa\",\"#EF553B\",\"#00cc96\",\"#ab63fa\",\"#FFA15A\",\"#19d3f3\",\"#FF6692\",\"#B6E880\",\"#FF97FF\",\"#FECB52\"],\"font\":{\"color\":\"#2a3f5f\"},\"geo\":{\"bgcolor\":\"white\",\"lakecolor\":\"white\",\"landcolor\":\"#E5ECF6\",\"showlakes\":true,\"showland\":true,\"subunitcolor\":\"white\"},\"hoverlabel\":{\"align\":\"left\"},\"hovermode\":\"closest\",\"mapbox\":{\"style\":\"light\"},\"paper_bgcolor\":\"white\",\"plot_bgcolor\":\"#E5ECF6\",\"polar\":{\"angularaxis\":{\"gridcolor\":\"white\",\"linecolor\":\"white\",\"ticks\":\"\"},\"bgcolor\":\"#E5ECF6\",\"radialaxis\":{\"gridcolor\":\"white\",\"linecolor\":\"white\",\"ticks\":\"\"}},\"scene\":{\"xaxis\":{\"backgroundcolor\":\"#E5ECF6\",\"gridcolor\":\"white\",\"gridwidth\":2,\"linecolor\":\"white\",\"showbackground\":true,\"ticks\":\"\",\"zerolinecolor\":\"white\"},\"yaxis\":{\"backgroundcolor\":\"#E5ECF6\",\"gridcolor\":\"white\",\"gridwidth\":2,\"linecolor\":\"white\",\"showbackground\":true,\"ticks\":\"\",\"zerolinecolor\":\"white\"},\"zaxis\":{\"backgroundcolor\":\"#E5ECF6\",\"gridcolor\":\"white\",\"gridwidth\":2,\"linecolor\":\"white\",\"showbackground\":true,\"ticks\":\"\",\"zerolinecolor\":\"white\"}},\"shapedefaults\":{\"line\":{\"color\":\"#2a3f5f\"}},\"ternary\":{\"aaxis\":{\"gridcolor\":\"white\",\"linecolor\":\"white\",\"ticks\":\"\"},\"baxis\":{\"gridcolor\":\"white\",\"linecolor\":\"white\",\"ticks\":\"\"},\"bgcolor\":\"#E5ECF6\",\"caxis\":{\"gridcolor\":\"white\",\"linecolor\":\"white\",\"ticks\":\"\"}},\"title\":{\"x\":0.05},\"xaxis\":{\"automargin\":true,\"gridcolor\":\"white\",\"linecolor\":\"white\",\"ticks\":\"\",\"title\":{\"standoff\":15},\"zerolinecolor\":\"white\",\"zerolinewidth\":2},\"yaxis\":{\"automargin\":true,\"gridcolor\":\"white\",\"linecolor\":\"white\",\"ticks\":\"\",\"title\":{\"standoff\":15},\"zerolinecolor\":\"white\",\"zerolinewidth\":2}}},\"scene\":{\"domain\":{\"x\":[0.0,1.0],\"y\":[0.0,1.0]},\"xaxis\":{\"title\":{\"text\":\"axe1\"}},\"yaxis\":{\"title\":{\"text\":\"axe2\"}},\"zaxis\":{\"title\":{\"text\":\"axe3\"}}},\"coloraxis\":{\"colorbar\":{\"title\":{\"text\":\"label\"}},\"colorscale\":[[0.0,\"#0d0887\"],[0.1111111111111111,\"#46039f\"],[0.2222222222222222,\"#7201a8\"],[0.3333333333333333,\"#9c179e\"],[0.4444444444444444,\"#bd3786\"],[0.5555555555555556,\"#d8576b\"],[0.6666666666666666,\"#ed7953\"],[0.7777777777777778,\"#fb9f3a\"],[0.8888888888888888,\"#fdca26\"],[1.0,\"#f0f921\"]]},\"legend\":{\"tracegroupgap\":0},\"margin\":{\"t\":60}},                        {\"responsive\": true}                    ).then(function(){\n",
       "                            \n",
       "var gd = document.getElementById('3ff1071d-6048-4292-bbdd-367eae146920');\n",
       "var x = new MutationObserver(function (mutations, observer) {{\n",
       "        var display = window.getComputedStyle(gd).display;\n",
       "        if (!display || display === 'none') {{\n",
       "            console.log([gd, 'removed!']);\n",
       "            Plotly.purge(gd);\n",
       "            observer.disconnect();\n",
       "        }}\n",
       "}});\n",
       "\n",
       "// Listen for the removal of the full notebook cells\n",
       "var notebookContainer = gd.closest('#notebook-container');\n",
       "if (notebookContainer) {{\n",
       "    x.observe(notebookContainer, {childList: true});\n",
       "}}\n",
       "\n",
       "// Listen for the clearing of the current output cell\n",
       "var outputEl = gd.closest('.output');\n",
       "if (outputEl) {{\n",
       "    x.observe(outputEl, {childList: true});\n",
       "}}\n",
       "\n",
       "                        })                };                });            </script>        </div>"
      ]
     },
     "metadata": {},
     "output_type": "display_data"
    }
   ],
   "source": [
    "import plotly.express as px\n",
    "\n",
    "fig = px.scatter_3d(df2, x='axe1', y='axe2', z='axe3',\n",
    "              color='label',text=\"region\" )\n",
    "fig.show()"
   ]
  },
  {
   "cell_type": "code",
   "execution_count": null,
   "id": "bce30dc2",
   "metadata": {},
   "outputs": [],
   "source": []
  }
 ],
 "metadata": {
  "kernelspec": {
   "display_name": "Python 3",
   "language": "python",
   "name": "python3"
  },
  "language_info": {
   "codemirror_mode": {
    "name": "ipython",
    "version": 3
   },
   "file_extension": ".py",
   "mimetype": "text/x-python",
   "name": "python",
   "nbconvert_exporter": "python",
   "pygments_lexer": "ipython3",
   "version": "3.8.8"
  }
 },
 "nbformat": 4,
 "nbformat_minor": 5
}
